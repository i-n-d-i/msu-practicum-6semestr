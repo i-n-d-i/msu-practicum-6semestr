{
 "cells": [
  {
   "cell_type": "code",
   "execution_count": 1,
   "id": "arabic-tradition",
   "metadata": {},
   "outputs": [],
   "source": [
    "from sklearn.datasets import fetch_covtype\n",
    "from sklearn.model_selection import train_test_split\n",
    "from sklearn.metrics import accuracy_score"
   ]
  },
  {
   "cell_type": "markdown",
   "id": "refined-front",
   "metadata": {},
   "source": [
    "#### 1. Загрузите датасет при помощи sklearn.datasets.fetch_covtype"
   ]
  },
  {
   "cell_type": "code",
   "execution_count": 2,
   "id": "signed-locking",
   "metadata": {},
   "outputs": [],
   "source": [
    "dataset = fetch_covtype(shuffle=True)"
   ]
  },
  {
   "cell_type": "code",
   "execution_count": 3,
   "id": "opposite-execution",
   "metadata": {},
   "outputs": [
    {
     "name": "stdout",
     "output_type": "stream",
     "text": [
      "(50000, 54) (50000,)\n"
     ]
    }
   ],
   "source": [
    "x, y = dataset.data[:50000], dataset.target[:50000]\n",
    "print(x.shape, y.shape)"
   ]
  },
  {
   "cell_type": "markdown",
   "id": "rough-queen",
   "metadata": {},
   "source": [
    "#### 2. Стратифицированно по классам разделите датасет на обучающую и тестовую выборку (в отношении 1 к 4)"
   ]
  },
  {
   "cell_type": "code",
   "execution_count": 4,
   "id": "presidential-assistant",
   "metadata": {},
   "outputs": [],
   "source": [
    "x_train, x_test, y_train, y_test = train_test_split(x, y, test_size=0.25, train_size=0.75)"
   ]
  },
  {
   "cell_type": "markdown",
   "id": "indoor-richmond",
   "metadata": {},
   "source": [
    "#### 3. Обучите решающее дерево. Определите точность предсказания на тестовой выборке. Подберите гиперпараметры алгоритма"
   ]
  },
  {
   "cell_type": "code",
   "execution_count": 5,
   "id": "reserved-labor",
   "metadata": {},
   "outputs": [
    {
     "data": {
      "text/plain": [
       "0.81696"
      ]
     },
     "execution_count": 5,
     "metadata": {},
     "output_type": "execute_result"
    }
   ],
   "source": [
    "from sklearn.tree import DecisionTreeClassifier\n",
    "from sklearn.model_selection import GridSearchCV\n",
    "from sklearn.metrics import make_scorer\n",
    "\n",
    "tree = DecisionTreeClassifier(random_state=0)\n",
    "tree.fit(x_train, y_train)\n",
    "y_pred = tree.predict(x_test)\n",
    "accuracy_score(y_pred, y_test)"
   ]
  },
  {
   "cell_type": "code",
   "execution_count": 6,
   "id": "complex-sector",
   "metadata": {},
   "outputs": [
    {
     "data": {
      "text/plain": [
       "{'ccp_alpha': 0}"
      ]
     },
     "execution_count": 6,
     "metadata": {},
     "output_type": "execute_result"
    }
   ],
   "source": [
    "parametrs = {'ccp_alpha': range (0, 10)}\n",
    "grid = GridSearchCV(tree, parametrs, cv=6)\n",
    "grid.fit(x_train, y_train)\n",
    "grid.best_params_"
   ]
  },
  {
   "cell_type": "code",
   "execution_count": 7,
   "id": "devoted-alcohol",
   "metadata": {},
   "outputs": [
    {
     "data": {
      "text/plain": [
       "{'max_depth': 21}"
      ]
     },
     "execution_count": 7,
     "metadata": {},
     "output_type": "execute_result"
    }
   ],
   "source": [
    "parametrs = {'max_depth': range (1, 30)}\n",
    "grid = GridSearchCV(tree, parametrs, cv=6)\n",
    "grid.fit(x_train, y_train)\n",
    "grid.best_params_"
   ]
  },
  {
   "cell_type": "code",
   "execution_count": 8,
   "id": "committed-reservation",
   "metadata": {},
   "outputs": [
    {
     "data": {
      "text/plain": [
       "{'min_samples_leaf': 1, 'min_samples_split': 2}"
      ]
     },
     "execution_count": 8,
     "metadata": {},
     "output_type": "execute_result"
    }
   ],
   "source": [
    "parametrs = {'min_samples_leaf': range (1, 10, 2),\n",
    "             'min_samples_split': range (2, 10, 2)}\n",
    "grid = GridSearchCV(tree, parametrs, cv=6)\n",
    "grid.fit(x_train, y_train)\n",
    "grid.best_params_"
   ]
  },
  {
   "cell_type": "code",
   "execution_count": 10,
   "id": "bright-coupon",
   "metadata": {},
   "outputs": [
    {
     "data": {
      "text/plain": [
       "0.82192"
      ]
     },
     "execution_count": 10,
     "metadata": {},
     "output_type": "execute_result"
    }
   ],
   "source": [
    "tree = DecisionTreeClassifier(ccp_alpha=0, max_depth=21, min_samples_leaf=1, min_samples_split=2, random_state=0)\n",
    "tree.fit(x_train, y_train)\n",
    "y_pred = tree.predict(x_test)\n",
    "accuracy_score(y_pred, y_test)"
   ]
  },
  {
   "cell_type": "markdown",
   "id": "adequate-brighton",
   "metadata": {},
   "source": [
    "#### 4. Обучите случайный лес, подберите оптимальные гиперпараметры и сравните точность с решающим деревом."
   ]
  },
  {
   "cell_type": "code",
   "execution_count": 14,
   "id": "adequate-anime",
   "metadata": {},
   "outputs": [
    {
     "data": {
      "text/plain": [
       "0.86728"
      ]
     },
     "execution_count": 14,
     "metadata": {},
     "output_type": "execute_result"
    }
   ],
   "source": [
    "from sklearn.ensemble import RandomForestClassifier\n",
    "\n",
    "forest = RandomForestClassifier(random_state=0)\n",
    "forest.fit(x_train, y_train)\n",
    "y_pred = forest.predict(x_test)\n",
    "accuracy_score(y_pred, y_test)"
   ]
  },
  {
   "cell_type": "code",
   "execution_count": 15,
   "id": "exterior-impression",
   "metadata": {},
   "outputs": [
    {
     "data": {
      "text/plain": [
       "{'n_estimators': 450}"
      ]
     },
     "execution_count": 15,
     "metadata": {},
     "output_type": "execute_result"
    }
   ],
   "source": [
    "parametrs = {'n_estimators': range(100, 501, 50)}  \n",
    "grid = GridSearchCV(forest, parametrs, cv=5)\n",
    "grid.fit(x_train, y_train)\n",
    "grid.best_params_"
   ]
  },
  {
   "cell_type": "code",
   "execution_count": 16,
   "id": "nearby-federal",
   "metadata": {},
   "outputs": [
    {
     "data": {
      "text/plain": [
       "{'max_features': None}"
      ]
     },
     "execution_count": 16,
     "metadata": {},
     "output_type": "execute_result"
    }
   ],
   "source": [
    "parametrs = {'max_features': ['auto', 'sqrt', 'log2', None]}\n",
    "grid = GridSearchCV(forest, parametrs, cv=5)\n",
    "grid.fit(x_train, y_train)\n",
    "grid.best_params_"
   ]
  },
  {
   "cell_type": "code",
   "execution_count": 17,
   "id": "increased-consolidation",
   "metadata": {},
   "outputs": [
    {
     "data": {
      "text/plain": [
       "{'max_depth': 45}"
      ]
     },
     "execution_count": 17,
     "metadata": {},
     "output_type": "execute_result"
    }
   ],
   "source": [
    "parametrs = {'max_depth': range (1, 50)}\n",
    "grid = GridSearchCV(forest, parametrs, cv=5)\n",
    "grid.fit(x_train, y_train)\n",
    "grid.best_params_"
   ]
  },
  {
   "cell_type": "code",
   "execution_count": 18,
   "id": "earlier-institute",
   "metadata": {},
   "outputs": [
    {
     "data": {
      "text/plain": [
       "{'min_samples_leaf': 1, 'min_samples_split': 2}"
      ]
     },
     "execution_count": 18,
     "metadata": {},
     "output_type": "execute_result"
    }
   ],
   "source": [
    "parametrs = {'min_samples_leaf': range (1, 10, 2),\n",
    "             'min_samples_split': range (2, 10, 2)}\n",
    "grid = GridSearchCV(forest, parametrs, cv=5)\n",
    "grid.fit(x_train, y_train)\n",
    "grid.best_params_"
   ]
  },
  {
   "cell_type": "code",
   "execution_count": 19,
   "id": "allied-writing",
   "metadata": {},
   "outputs": [
    {
     "data": {
      "text/plain": [
       "{'criterion': 'entropy'}"
      ]
     },
     "execution_count": 19,
     "metadata": {},
     "output_type": "execute_result"
    }
   ],
   "source": [
    "parametrs = {'criterion': ['gini', 'entropy']}\n",
    "grid = GridSearchCV(forest, parametrs, cv=5)\n",
    "grid.fit(x_train, y_train)\n",
    "grid.best_params_"
   ]
  },
  {
   "cell_type": "code",
   "execution_count": 21,
   "id": "square-sessions",
   "metadata": {},
   "outputs": [
    {
     "data": {
      "text/plain": [
       "0.89048"
      ]
     },
     "execution_count": 21,
     "metadata": {},
     "output_type": "execute_result"
    }
   ],
   "source": [
    "from sklearn.ensemble import RandomForestClassifier\n",
    "\n",
    "forest = RandomForestClassifier(n_estimators=450,max_features=None,max_depth=45,criterion='entropy',random_state=0)\n",
    "forest.fit(x_train, y_train)\n",
    "y_pred = forest.predict(x_test)\n",
    "accuracy_score(y_pred, y_test)"
   ]
  },
  {
   "cell_type": "markdown",
   "id": "adopted-yugoslavia",
   "metadata": {},
   "source": [
    "Вывод: Точность случайного леса лучше, чем у решающего дерева"
   ]
  },
  {
   "cell_type": "markdown",
   "id": "agreed-airport",
   "metadata": {},
   "source": [
    "#### 6. Обучите на тех же данных CatBoostClassifier. Подберите оптимальные параметры. "
   ]
  },
  {
   "cell_type": "code",
   "execution_count": 8,
   "id": "forbidden-tractor",
   "metadata": {},
   "outputs": [
    {
     "data": {
      "text/plain": [
       "0.8476"
      ]
     },
     "execution_count": 8,
     "metadata": {},
     "output_type": "execute_result"
    }
   ],
   "source": [
    "from catboost import CatBoostClassifier\n",
    "\n",
    "model = CatBoostClassifier()\n",
    "model.fit(x_train, y_train, verbose=False)\n",
    "y_pred = model.predict(x_test)\n",
    "accuracy_score(y_pred, y_test)"
   ]
  },
  {
   "cell_type": "code",
   "execution_count": 9,
   "id": "enabling-object",
   "metadata": {},
   "outputs": [
    {
     "name": "stdout",
     "output_type": "stream",
     "text": [
      "The best depth across searched params:\n",
      " {'depth': 10}\n"
     ]
    }
   ],
   "source": [
    "from sklearn.model_selection import GridSearchCV\n",
    "\n",
    "model = CatBoostClassifier()\n",
    "parametrs = {'depth':[6, 8, 10, None]}\n",
    "\n",
    "grid = GridSearchCV(estimator=model, param_grid=parametrs, cv=2, n_jobs=-1)\n",
    "grid.fit(x_train, y_train, verbose=False)\n",
    "print(\"The best depth across searched params:\\n\", grid.best_params_)"
   ]
  },
  {
   "cell_type": "code",
   "execution_count": 10,
   "id": "extraordinary-latvia",
   "metadata": {},
   "outputs": [
    {
     "data": {
      "text/plain": [
       "<catboost.core.CatBoostClassifier at 0x7f906f6f44f0>"
      ]
     },
     "execution_count": 10,
     "metadata": {},
     "output_type": "execute_result"
    }
   ],
   "source": [
    "model = CatBoostClassifier(iterations=1500,\n",
    "                           custom_loss=['Accuracy'],\n",
    "                           eval_metric='Accuracy',       \n",
    "                           use_best_model=True)\n",
    "model.fit(x_train, y_train, eval_set = (x_test, y_test), early_stopping_rounds=50, verbose=False)"
   ]
  },
  {
   "cell_type": "code",
   "execution_count": 11,
   "id": "applicable-dependence",
   "metadata": {},
   "outputs": [
    {
     "name": "stdout",
     "output_type": "stream",
     "text": [
      "Best iteration:  1495\n"
     ]
    }
   ],
   "source": [
    "print(\"Best iteration: \", model.get_best_iteration())"
   ]
  },
  {
   "cell_type": "markdown",
   "id": "young-crown",
   "metadata": {},
   "source": [
    "#### 7. Для всех трёх алгоритмов (решающее дерево, случайный лес, CatBoost) найдите индексы топ-5 самых важных признаков"
   ]
  },
  {
   "cell_type": "code",
   "execution_count": 36,
   "id": "mineral-essence",
   "metadata": {},
   "outputs": [
    {
     "name": "stdout",
     "output_type": "stream",
     "text": [
      "Indexes of the top-5 most important attributes:  [0 5 9 3 4]\n",
      "Feature ranking:\n",
      "1. feature 0 (0.359501)\n",
      "2. feature 5 (0.118494)\n",
      "3. feature 9 (0.110800)\n",
      "4. feature 3 (0.064681)\n",
      "5. feature 4 (0.045462)\n",
      "6. feature 7 (0.045316)\n",
      "7. feature 6 (0.037691)\n",
      "8. feature 1 (0.035964)\n",
      "9. feature 8 (0.032527)\n",
      "10. feature 2 (0.022522)\n"
     ]
    }
   ],
   "source": [
    "import numpy as np\n",
    "\n",
    "tree_importances = tree.feature_importances_\n",
    "indices = np.argsort(tree_importances)[::-1]\n",
    "print(\"Indexes of the top-5 most important attributes: \", indices[:5])\n",
    "print(\"Feature ranking:\")\n",
    "for f in range(10):\n",
    "    print(\"%d. feature %d (%f)\" % (f + 1, indices[f], tree_importances[indices[f]]))"
   ]
  },
  {
   "cell_type": "code",
   "execution_count": 37,
   "id": "inclusive-score",
   "metadata": {},
   "outputs": [
    {
     "name": "stdout",
     "output_type": "stream",
     "text": [
      "Indexes of the top-5 most important attributes:  [0 5 9 3 4]\n",
      "Feature ranking:\n",
      "1. feature 0 (0.425927)\n",
      "2. feature 5 (0.102520)\n",
      "3. feature 9 (0.098887)\n",
      "4. feature 3 (0.057414)\n",
      "5. feature 4 (0.047281)\n",
      "6. feature 7 (0.038454)\n",
      "7. feature 1 (0.033827)\n",
      "8. feature 6 (0.032824)\n",
      "9. feature 8 (0.027713)\n",
      "10. feature 2 (0.023067)\n"
     ]
    }
   ],
   "source": [
    "forest_importances = forest.feature_importances_\n",
    "indices = np.argsort(forest_importances)[::-1]\n",
    "print(\"Indexes of the top-5 most important attributes: \", indices[:5])\n",
    "print(\"Feature ranking:\")\n",
    "for f in range(10):\n",
    "    print(\"%d. feature %d (%f)\" % (f + 1, indices[f], forest_importances[indices[f]]))"
   ]
  },
  {
   "cell_type": "code",
   "execution_count": 40,
   "id": "regulated-residence",
   "metadata": {},
   "outputs": [
    {
     "name": "stdout",
     "output_type": "stream",
     "text": [
      "Indexes of the top-5 most important attributes:  [0 5 9 3 4]\n",
      "Feature ranking:\n",
      "1. feature 0 (29.848894)\n",
      "2. feature 5 (15.332662)\n",
      "3. feature 9 (13.129037)\n",
      "4. feature 3 (5.684703)\n",
      "5. feature 4 (4.783116)\n",
      "6. feature 6 (3.952754)\n",
      "7. feature 1 (3.810602)\n",
      "8. feature 7 (3.803290)\n",
      "9. feature 12 (3.470155)\n",
      "10. feature 10 (2.501143)\n"
     ]
    }
   ],
   "source": [
    "model_importances = model.get_feature_importance()\n",
    "indices = np.argsort(model_importances)[::-1]\n",
    "print(\"Indexes of the top-5 most important attributes: \", indices[:5])\n",
    "print(\"Feature ranking:\")\n",
    "for f in range(10):\n",
    "    print(\"%d. feature %d (%f)\" % (f + 1, indices[f], model_importances[indices[f]]))"
   ]
  },
  {
   "cell_type": "code",
   "execution_count": null,
   "id": "substantial-arcade",
   "metadata": {},
   "outputs": [],
   "source": []
  }
 ],
 "metadata": {
  "kernelspec": {
   "display_name": "Python 3",
   "language": "python",
   "name": "python3"
  },
  "language_info": {
   "codemirror_mode": {
    "name": "ipython",
    "version": 3
   },
   "file_extension": ".py",
   "mimetype": "text/x-python",
   "name": "python",
   "nbconvert_exporter": "python",
   "pygments_lexer": "ipython3",
   "version": "3.8.5"
  }
 },
 "nbformat": 4,
 "nbformat_minor": 5
}
