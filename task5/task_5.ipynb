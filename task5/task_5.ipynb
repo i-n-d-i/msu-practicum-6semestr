{
 "cells": [
  {
   "cell_type": "code",
   "execution_count": 2,
   "metadata": {},
   "outputs": [],
   "source": [
    "import numpy as np"
   ]
  },
  {
   "cell_type": "markdown",
   "metadata": {},
   "source": [
    "### task #1"
   ]
  },
  {
   "cell_type": "code",
   "execution_count": 76,
   "metadata": {},
   "outputs": [
    {
     "name": "stdout",
     "output_type": "stream",
     "text": [
      "матрица:\n",
      " [[-0.92083995 -0.59395459  0.44899673  0.78637002  0.          0.\n",
      "   0.          0.        ]\n",
      " [-0.21897053 -0.30168911 -0.9362338  -1.10085404  0.          0.\n",
      "   0.          0.        ]\n",
      " [-0.46111554  0.65842797 -0.34443331  0.07145421  0.          0.\n",
      "   0.          0.        ]\n",
      " [-1.40618058 -1.53581642 -0.6102132   0.33424794  0.          0.\n",
      "   0.          0.        ]\n",
      " [ 0.          0.          0.          0.          1.76167545  2.74210371\n",
      "   0.14874865  2.03360956]\n",
      " [ 0.          0.          0.          0.          3.00310998 -0.2461259\n",
      "   1.25989846  1.06758743]\n",
      " [ 0.          0.          0.          0.         -1.08059118  3.92867089\n",
      "   1.33195143  4.67944497]\n",
      " [ 0.          0.          0.          0.          1.1352681   1.21129824\n",
      "   4.74865167  0.16434102]]\n",
      "собственные значения:\n",
      " [ 0.87840862+0.j         -0.93948418+0.j         -0.58581944+0.85891527j\n",
      " -0.58581944-0.85891527j  7.07814226+0.j          2.48335007+0.j\n",
      " -4.84685884+0.j         -1.70279149+0.j        ]\n"
     ]
    }
   ],
   "source": [
    "import scipy.linalg\n",
    "a1 = np.random.randn(4, 4)\n",
    "mu, sigma = 1, 2\n",
    "a2 = mu + sigma * np.random.randn(4, 4)\n",
    "matrix = scipy.linalg.block_diag(a1, a2)\n",
    "print(\"матрица:\\n\", matrix)\n",
    "print(\"собственные значения:\\n\", np.linalg.eigvals(matrix))"
   ]
  },
  {
   "cell_type": "markdown",
   "metadata": {},
   "source": [
    "### task #2"
   ]
  },
  {
   "cell_type": "code",
   "execution_count": 17,
   "metadata": {},
   "outputs": [],
   "source": [
    "def number_of_bits(num):\n",
    "    answer = 0\n",
    "    while (num):\n",
    "        answer += num & 1\n",
    "        num = num >> 1\n",
    "    return answer"
   ]
  },
  {
   "cell_type": "markdown",
   "metadata": {},
   "source": [
    "#### 1 вариант - вычисление в цикле for"
   ]
  },
  {
   "cell_type": "code",
   "execution_count": 18,
   "metadata": {},
   "outputs": [
    {
     "name": "stdout",
     "output_type": "stream",
     "text": [
      "[1, 1, 2, 1, 2, 2, 3, 1, 2, 2, 3, 2, 3, 3, 4, 1, 2, 2, 3, 2, 3, 3, 4, 2, 3, 3, 4, 3, 4, 4, 5, 1, 2, 2, 3, 2, 3, 3, 4, 2, 3, 3, 4, 3, 4, 4, 5, 2, 3, 3, 4, 3, 4, 4, 5, 3, 4, 4, 5, 4, 5, 5, 6, 1, 2, 2, 3, 2, 3, 3, 4, 2, 3, 3, 4, 3, 4, 4, 5, 2, 3, 3, 4, 3, 4, 4, 5, 3, 4, 4, 5, 4, 5, 5, 6, 2, 3, 3, 4, 3]\n",
      "CPU times: user 2.25 s, sys: 0 ns, total: 2.25 s\n",
      "Wall time: 2.25 s\n"
     ]
    }
   ],
   "source": [
    "%%time\n",
    "arr = np.arange(1, 2e5, dtype=int)\n",
    "answer = [number_of_bits(val) for val in arr]\n",
    "print(answer[0:100])"
   ]
  },
  {
   "cell_type": "markdown",
   "metadata": {},
   "source": [
    "#### 2 вариант - векторизация при помощи numpy.vectorize"
   ]
  },
  {
   "cell_type": "code",
   "execution_count": 20,
   "metadata": {},
   "outputs": [
    {
     "name": "stdout",
     "output_type": "stream",
     "text": [
      "[1 1 2 1 2 2 3 1 2 2 3 2 3 3 4 1 2 2 3 2 3 3 4 2 3 3 4 3 4 4 5 1 2 2 3 2 3\n",
      " 3 4 2 3 3 4 3 4 4 5 2 3 3 4 3 4 4 5 3 4 4 5 4 5 5 6 1 2 2 3 2 3 3 4 2 3 3\n",
      " 4 3 4 4 5 2 3 3 4 3 4 4 5 3 4 4 5 4 5 5 6 2 3 3 4 3]\n",
      "CPU times: user 639 ms, sys: 0 ns, total: 639 ms\n",
      "Wall time: 639 ms\n"
     ]
    }
   ],
   "source": [
    "%%time\n",
    "arr = np.arange(1, 2e5, dtype=int)\n",
    "print(np.vectorize(number_of_bits)(arr)[:100])"
   ]
  },
  {
   "cell_type": "markdown",
   "metadata": {},
   "source": [
    "#### 3 вариант - вычисление в цикле с использованием numba"
   ]
  },
  {
   "cell_type": "code",
   "execution_count": 21,
   "metadata": {},
   "outputs": [],
   "source": [
    "import numba\n",
    "\n",
    "@numba.njit\n",
    "def number_of_bits(num):\n",
    "    answer = 0\n",
    "    while (num):\n",
    "        answer += num & 1\n",
    "        num = num >> 1\n",
    "    return answer"
   ]
  },
  {
   "cell_type": "code",
   "execution_count": 22,
   "metadata": {},
   "outputs": [
    {
     "name": "stdout",
     "output_type": "stream",
     "text": [
      "[1, 1, 2, 1, 2, 2, 3, 1, 2, 2, 3, 2, 3, 3, 4, 1, 2, 2, 3, 2, 3, 3, 4, 2, 3, 3, 4, 3, 4, 4, 5, 1, 2, 2, 3, 2, 3, 3, 4, 2, 3, 3, 4, 3, 4, 4, 5, 2, 3, 3, 4, 3, 4, 4, 5, 3, 4, 4, 5, 4, 5, 5, 6, 1, 2, 2, 3, 2, 3, 3, 4, 2, 3, 3, 4, 3, 4, 4, 5, 2, 3, 3, 4, 3, 4, 4, 5, 3, 4, 4, 5, 4, 5, 5, 6, 2, 3, 3, 4, 3]\n",
      "CPU times: user 397 ms, sys: 4.48 ms, total: 402 ms\n",
      "Wall time: 456 ms\n"
     ]
    }
   ],
   "source": [
    "%%time\n",
    "arr = np.arange(1, 2e5, dtype=int)\n",
    "mask = [number_of_bits(val) for val in arr]\n",
    "print(mask[0:100])"
   ]
  },
  {
   "cell_type": "markdown",
   "metadata": {},
   "source": [
    "#### 4 вариант - вычисление с использованием numba и vectorize"
   ]
  },
  {
   "cell_type": "code",
   "execution_count": 23,
   "metadata": {},
   "outputs": [
    {
     "name": "stdout",
     "output_type": "stream",
     "text": [
      "[1 1 2 1 2 2 3 1 2 2 3 2 3 3 4 1 2 2 3 2 3 3 4 2 3 3 4 3 4 4 5 1 2 2 3 2 3\n",
      " 3 4 2 3 3 4 3 4 4 5 2 3 3 4 3 4 4 5 3 4 4 5 4 5 5 6 1 2 2 3 2 3 3 4 2 3 3\n",
      " 4 3 4 4 5 2 3 3 4 3 4 4 5 3 4 4 5 4 5 5 6 2 3 3 4 3]\n",
      "CPU times: user 88.4 ms, sys: 3.18 ms, total: 91.5 ms\n",
      "Wall time: 91.5 ms\n"
     ]
    }
   ],
   "source": [
    "%%time\n",
    "arr = np.arange(1, 2e5, dtype=int)\n",
    "print(np.vectorize(number_of_bits)(arr)[:100])"
   ]
  },
  {
   "cell_type": "markdown",
   "metadata": {},
   "source": [
    "### task #3"
   ]
  },
  {
   "cell_type": "code",
   "execution_count": 39,
   "metadata": {},
   "outputs": [],
   "source": [
    "%matplotlib inline\n",
    "import matplotlib.pyplot as plt\n",
    "import matplotlib.ticker as ticker"
   ]
  },
  {
   "cell_type": "code",
   "execution_count": 55,
   "metadata": {},
   "outputs": [
    {
     "data": {
      "text/plain": [
       "<matplotlib.legend.Legend at 0x7f20a6192f60>"
      ]
     },
     "execution_count": 55,
     "metadata": {},
     "output_type": "execute_result"
    },
    {
     "data": {
      "image/png": "[encoded data removed]",
      "text/plain": [
       "<Figure size 504x504 with 1 Axes>"
      ]
     },
     "metadata": {
      "needs_background": "light"
     },
     "output_type": "display_data"
    }
   ],
   "source": [
    "x = np.linspace(-5, 5, 20)\n",
    "fig, ax = plt.subplots(figsize=(7,7))  # Создать фигуру и оси координат\n",
    "\n",
    "ax.plot(x, np.sin(x)-np.cos(x), label='sin(x)-cos(x)', color='red')  \n",
    "ax.plot(x, np.exp(x) - 1, label='e^x - 1', color='black')\n",
    "ax.scatter(-1.7346096, np.exp(-1.7346096) - 1, color='green')\n",
    "\n",
    "plt.grid()\n",
    "plt.axis([-5, 5, -1.5, 9])  # задаём границы по x и y\n",
    "\n",
    "ax.xaxis.set_major_locator(ticker.MultipleLocator(1))\n",
    "ax.xaxis.set_minor_locator(ticker.MultipleLocator(0.5))\n",
    "\n",
    "ax.yaxis.set_major_locator(ticker.MultipleLocator(1))\n",
    "ax.yaxis.set_minor_locator(ticker.MultipleLocator(0.5))\n",
    "\n",
    "ax.set_xlabel('x label')  # Подписываем ось х\n",
    "ax.set_ylabel('y label')  # Подписываем ось у\n",
    "ax.set_title(\"task #3\")  # Добавляем заголовок\n",
    "ax.legend()  # Рисуем легенду\n",
    "plot.legend(loc=2, prop={'size': 10})"
   ]
  },
  {
   "cell_type": "markdown",
   "metadata": {},
   "source": [
    "### task #4"
   ]
  },
  {
   "cell_type": "code",
   "execution_count": 107,
   "metadata": {},
   "outputs": [
    {
     "data": {
      "image/png": "[encoded data removed]",
      "text/plain": [
       "<Figure size 432x288 with 1 Axes>"
      ]
     },
     "metadata": {
      "needs_background": "light"
     },
     "output_type": "display_data"
    }
   ],
   "source": [
    "import random\n",
    "\n",
    "arr = [random.gammavariate(alpha = 9, beta = 0.5) for i in range(10000)]\n",
    "\n",
    "plt.xlabel('x label')\n",
    "plt.ylabel('y label')\n",
    "plt.title('Histogram')\n",
    "plt.grid(True) \n",
    "n, bins, patches = plt.hist(arr, 20, density=True, color='red', alpha=0.75)\n",
    "plt.axis([0, 12, 0, 0.3]) \n",
    "plt.show()"
   ]
  },
  {
   "cell_type": "code",
   "execution_count": null,
   "metadata": {},
   "outputs": [],
   "source": []
  }
 ],
 "metadata": {
  "kernelspec": {
   "display_name": "Python 3",
   "language": "python",
   "name": "python3"
  },
  "language_info": {
   "codemirror_mode": {
    "name": "ipython",
    "version": 3
   },
   "file_extension": ".py",
   "mimetype": "text/x-python",
   "name": "python",
   "nbconvert_exporter": "python",
   "pygments_lexer": "ipython3",
   "version": "3.8.5"
  }
 },
 "nbformat": 4,
 "nbformat_minor": 2
}
